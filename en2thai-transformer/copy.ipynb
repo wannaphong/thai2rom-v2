{
 "cells": [
  {
   "cell_type": "code",
   "execution_count": 1,
   "id": "27702c30",
   "metadata": {},
   "outputs": [],
   "source": [
    "# !cp -R ../en-th-seq2seq-simpletransformers/ep4 ep4/"
   ]
  },
  {
   "cell_type": "code",
   "execution_count": 1,
   "id": "166fdf92",
   "metadata": {},
   "outputs": [],
   "source": [
    "# !cp ../en-th-seq2seq-simpletransformers/train.py ."
   ]
  },
  {
   "cell_type": "code",
   "execution_count": 2,
   "id": "d93cf4c8",
   "metadata": {},
   "outputs": [],
   "source": [
    "# !cp ../en-th-seq2seq-simpletransformers/test.ipynb ."
   ]
  },
  {
   "cell_type": "code",
   "execution_count": null,
   "id": "dac15b57",
   "metadata": {},
   "outputs": [],
   "source": []
  }
 ],
 "metadata": {
  "kernelspec": {
   "display_name": "Python 3 (ipykernel)",
   "language": "python",
   "name": "python3"
  },
  "language_info": {
   "codemirror_mode": {
    "name": "ipython",
    "version": 3
   },
   "file_extension": ".py",
   "mimetype": "text/x-python",
   "name": "python",
   "nbconvert_exporter": "python",
   "pygments_lexer": "ipython3",
   "version": "3.8.12"
  }
 },
 "nbformat": 4,
 "nbformat_minor": 5
}
