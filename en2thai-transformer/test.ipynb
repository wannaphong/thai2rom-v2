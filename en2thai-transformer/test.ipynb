{
 "cells": [
  {
   "cell_type": "code",
   "execution_count": 1,
   "id": "f5529064",
   "metadata": {},
   "outputs": [],
   "source": [
    "# !wget https://huggingface.co/Helsinki-NLP/opus-mt-en-mul/resolve/main/source.spm\n",
    "# !wget https://huggingface.co/Helsinki-NLP/opus-mt-en-mul/resolve/main/target.spm\n",
    "# !wget https://huggingface.co/Helsinki-NLP/opus-mt-en-mul/raw/main/tokenizer_config.json\n",
    "# !wget https://huggingface.co/Helsinki-NLP/opus-mt-en-mul/raw/main/vocab.json"
   ]
  },
  {
   "cell_type": "code",
   "execution_count": 2,
   "id": "210253e8",
   "metadata": {},
   "outputs": [],
   "source": [
    "# !cp source.spm ep4/\n",
    "# !cp target.spm ep4/\n",
    "# !cp tokenizer_config.json ep4/\n",
    "# !cp vocab.json ep4/"
   ]
  },
  {
   "cell_type": "code",
   "execution_count": 3,
   "id": "549edd0c",
   "metadata": {},
   "outputs": [],
   "source": [
    "# !cp  -R outputs/checkpoint-199576-epoch-4/* ep4/"
   ]
  },
  {
   "cell_type": "code",
   "execution_count": 4,
   "id": "b984dedd",
   "metadata": {},
   "outputs": [
    {
     "name": "stderr",
     "output_type": "stream",
     "text": [
      "2022-05-22 17:29:07.537669: I tensorflow/stream_executor/platform/default/dso_loader.cc:49] Successfully opened dynamic library libcudart.so.11.0\n"
     ]
    }
   ],
   "source": [
    "from simpletransformers.seq2seq import Seq2SeqModel,Seq2SeqArgs"
   ]
  },
  {
   "cell_type": "code",
   "execution_count": 5,
   "id": "8087e2d5",
   "metadata": {},
   "outputs": [],
   "source": [
    "from tqdm.auto import tqdm"
   ]
  },
  {
   "cell_type": "code",
   "execution_count": 6,
   "id": "a8f8fc21",
   "metadata": {},
   "outputs": [],
   "source": [
    "model_args = Seq2SeqArgs()"
   ]
  },
  {
   "cell_type": "code",
   "execution_count": 7,
   "id": "17d5f46f",
   "metadata": {},
   "outputs": [
    {
     "data": {
      "text/plain": [
       "Seq2SeqArgs(adafactor_beta1=None, adafactor_clip_threshold=1.0, adafactor_decay_rate=-0.8, adafactor_eps=(1e-30, 0.001), adafactor_relative_step=True, adafactor_scale_parameter=True, adafactor_warmup_init=True, adam_epsilon=1e-08, best_model_dir='outputs/best_model', cache_dir='cache_dir/', config={}, cosine_schedule_num_cycles=0.5, custom_layer_parameters=[], custom_parameter_groups=[], dataloader_num_workers=0, do_lower_case=False, dynamic_quantize=False, early_stopping_consider_epochs=False, early_stopping_delta=0, early_stopping_metric='eval_loss', early_stopping_metric_minimize=True, early_stopping_patience=3, encoding=None, eval_batch_size=8, evaluate_during_training=False, evaluate_during_training_silent=True, evaluate_during_training_steps=2000, evaluate_during_training_verbose=False, evaluate_each_epoch=True, fp16=True, gradient_accumulation_steps=1, learning_rate=4e-05, local_rank=-1, logging_steps=50, loss_type=None, loss_args={}, manual_seed=None, max_grad_norm=1.0, max_seq_length=128, model_name=None, model_type=None, multiprocessing_chunksize=-1, n_gpu=1, no_cache=False, no_save=False, not_saved_args=[], num_train_epochs=1, optimizer='AdamW', output_dir='outputs/', overwrite_output_dir=False, polynomial_decay_schedule_lr_end=1e-07, polynomial_decay_schedule_power=1.0, process_count=78, quantized_model=False, reprocess_input_data=True, save_best_model=True, save_eval_checkpoints=True, save_model_every_epoch=True, save_optimizer_and_scheduler=True, save_steps=2000, scheduler='linear_schedule_with_warmup', silent=False, skip_special_tokens=True, tensorboard_dir=None, thread_count=None, tokenizer_name=None, tokenizer_type=None, train_batch_size=8, train_custom_parameters_only=False, use_cached_eval_features=False, use_early_stopping=False, use_hf_datasets=False, use_multiprocessing=True, use_multiprocessing_for_evaluation=True, wandb_kwargs={}, wandb_project=None, warmup_ratio=0.06, warmup_steps=0, weight_decay=0.0, model_class='Seq2SeqModel', base_marian_model_name=None, dataset_class=None, dataset_cache_dir=None, do_sample=False, early_stopping=True, evaluate_generated_text=False, faiss_d=768, faiss_m=128, include_title_in_knowledge_dataset=True, length_penalty=2.0, max_length=20, max_steps=-1, num_beams=1, num_return_sequences=1, rag_embed_batch_size=16, repetition_penalty=1.0, save_knowledge_dataset=True, save_knowledge_dataset_with_checkpoints=False, split_text_character=' ', split_text_n=100, src_lang='en_XX', tgt_lang='ro_RO', top_k=None, top_p=None, use_multiprocessed_decoding=False)"
      ]
     },
     "execution_count": 7,
     "metadata": {},
     "output_type": "execute_result"
    }
   ],
   "source": [
    "model_args"
   ]
  },
  {
   "cell_type": "code",
   "execution_count": 11,
   "id": "f8a042e8",
   "metadata": {},
   "outputs": [],
   "source": [
    "# !mkdir checkpoint-1143-epoch-3"
   ]
  },
  {
   "cell_type": "code",
   "execution_count": 13,
   "id": "78a2ccef",
   "metadata": {},
   "outputs": [],
   "source": [
    "!cp -R ./outputs/checkpoint-1143-epoch-3/ ."
   ]
  },
  {
   "cell_type": "code",
   "execution_count": 14,
   "id": "ba98608b",
   "metadata": {},
   "outputs": [],
   "source": [
    "!cp ep4/source.spm checkpoint-1143-epoch-3/\n",
    "!cp ep4/target.spm checkpoint-1143-epoch-3/\n",
    "!cp ep4/tokenizer_config.json checkpoint-1143-epoch-3/\n",
    "!cp ep4/vocab.json checkpoint-1143-epoch-3/"
   ]
  },
  {
   "cell_type": "code",
   "execution_count": 15,
   "id": "61cd36af",
   "metadata": {},
   "outputs": [],
   "source": [
    "model = Seq2SeqModel(\n",
    "    encoder_decoder_type=\"marian\",\n",
    "    encoder_decoder_name=\"checkpoint-1143-epoch-3\",\n",
    "    args=model_args,\n",
    "    use_cuda=True,\n",
    ")"
   ]
  },
  {
   "cell_type": "code",
   "execution_count": 16,
   "id": "8bf929d3",
   "metadata": {},
   "outputs": [
    {
     "data": {
      "application/vnd.jupyter.widget-view+json": {
       "model_id": "094e7d9e56124f94bc550d1c6136a813",
       "version_major": 2,
       "version_minor": 0
      },
      "text/plain": [
       "Generating outputs:   0%|          | 0/1 [00:00<?, ?it/s]"
      ]
     },
     "metadata": {},
     "output_type": "display_data"
    },
    {
     "name": "stderr",
     "output_type": "stream",
     "text": [
      "/opt/conda/lib/python3.8/site-packages/transformers/tokenization_utils_base.py:3524: FutureWarning: \n",
      "`prepare_seq2seq_batch` is deprecated and will be removed in version 5 of HuggingFace Transformers. Use the regular\n",
      "`__call__` method to prepare your inputs and the tokenizer under the `as_target_tokenizer` context manager to prepare\n",
      "your targets.\n",
      "\n",
      "Here is a short example:\n",
      "\n",
      "model_inputs = tokenizer(src_texts, ...)\n",
      "with tokenizer.as_target_tokenizer():\n",
      "    labels = tokenizer(tgt_texts, ...)\n",
      "model_inputs[\"labels\"] = labels[\"input_ids\"]\n",
      "\n",
      "See the documentation of your specific tokenizer for more details on the specific arguments to the tokenizer of choice.\n",
      "For a more complete example, see the implementation of `prepare_seq2seq_batch`.\n",
      "\n",
      "  warnings.warn(formatted_warning, FutureWarning)\n"
     ]
    },
    {
     "data": {
      "text/plain": [
       "['ต้นไผ่', 'ดอร์']"
      ]
     },
     "execution_count": 16,
     "metadata": {},
     "output_type": "execute_result"
    }
   ],
   "source": [
    "model.predict([\"tonphai\",\"do\"])"
   ]
  },
  {
   "cell_type": "code",
   "execution_count": 17,
   "id": "945f6bb4",
   "metadata": {},
   "outputs": [],
   "source": [
    "import pandas as pd\n",
    "import os"
   ]
  },
  {
   "cell_type": "code",
   "execution_count": 18,
   "id": "75f1e3d5",
   "metadata": {},
   "outputs": [],
   "source": [
    "path_dataset = os.path.join('..','dataset','cs')\n",
    "\n",
    "train_filepaths = os.path.join(path_dataset,'train.tsv')\n",
    "dev_filepaths = os.path.join(path_dataset,'dev.tsv')\n",
    "test_filepaths = os.path.join(path_dataset,'test.tsv')\n",
    "\n",
    "train_df = pd.read_csv(train_filepaths,sep=\"\\t\")\n",
    "dev_df = pd.read_csv(dev_filepaths,sep=\"\\t\")\n",
    "test_df = pd.read_csv(test_filepaths,sep=\"\\t\")"
   ]
  },
  {
   "cell_type": "code",
   "execution_count": 19,
   "id": "9e8d2f9c",
   "metadata": {},
   "outputs": [],
   "source": [
    "def load_data(data_path):\n",
    "    new_df=pd.DataFrame()\n",
    "    new_df[\"target_text\"]=[str(i) for i in data_path['word']]\n",
    "    new_df[\"input_text\"] =[str(i) for i in data_path['roman']]\n",
    "    return new_df\n"
   ]
  },
  {
   "cell_type": "code",
   "execution_count": 20,
   "id": "edd9e3d9",
   "metadata": {},
   "outputs": [],
   "source": [
    "test_df = load_data(test_df)"
   ]
  },
  {
   "cell_type": "code",
   "execution_count": 21,
   "id": "101f5d65",
   "metadata": {},
   "outputs": [
    {
     "data": {
      "application/vnd.jupyter.widget-view+json": {
       "model_id": "3a1f8472de144e07b750422c9b7ab812",
       "version_major": 2,
       "version_minor": 0
      },
      "text/plain": [
       "Generating outputs:   0%|          | 0/97 [00:00<?, ?it/s]"
      ]
     },
     "metadata": {},
     "output_type": "display_data"
    }
   ],
   "source": [
    "pred = model.predict(list(test_df['input_text']))"
   ]
  },
  {
   "cell_type": "code",
   "execution_count": 22,
   "id": "5d2122c3",
   "metadata": {},
   "outputs": [],
   "source": [
    "ground_truth = list(test_df['target_text'])"
   ]
  },
  {
   "cell_type": "code",
   "execution_count": 23,
   "id": "39172a0e",
   "metadata": {},
   "outputs": [],
   "source": [
    "def clean(s):\n",
    "    if s.startswith('▁'):\n",
    "        s=s.replace('▁','',1)\n",
    "    return s.replace('▁',' ')"
   ]
  },
  {
   "cell_type": "code",
   "execution_count": 24,
   "id": "70564db0",
   "metadata": {},
   "outputs": [],
   "source": [
    "from jiwer import cer,wer"
   ]
  },
  {
   "cell_type": "code",
   "execution_count": 25,
   "id": "11c267c3",
   "metadata": {},
   "outputs": [
    {
     "data": {
      "text/plain": [
       "0.7343672661277016"
      ]
     },
     "execution_count": 25,
     "metadata": {},
     "output_type": "execute_result"
    }
   ],
   "source": [
    "cer(ground_truth,[clean(i) for i in pred])"
   ]
  },
  {
   "cell_type": "code",
   "execution_count": 26,
   "id": "df1abe65",
   "metadata": {},
   "outputs": [
    {
     "data": {
      "text/plain": [
       "1.0436456996148908"
      ]
     },
     "execution_count": 26,
     "metadata": {},
     "output_type": "execute_result"
    }
   ],
   "source": [
    "wer(ground_truth,[clean(i) for i in pred])"
   ]
  },
  {
   "cell_type": "code",
   "execution_count": 27,
   "id": "650bcd4a",
   "metadata": {},
   "outputs": [],
   "source": [
    "with open(\"pred-ep3.txt\",'w',encoding='utf-8') as f:\n",
    "    f.write('\\n'.join(pred))"
   ]
  },
  {
   "cell_type": "code",
   "execution_count": 28,
   "id": "1ef88a6d",
   "metadata": {},
   "outputs": [
    {
     "data": {
      "application/vnd.jupyter.widget-view+json": {
       "model_id": "eff9018eaef3495faa50d6e99e310d23",
       "version_major": 2,
       "version_minor": 0
      },
      "text/plain": [
       "Generating outputs:   0%|          | 0/1 [00:00<?, ?it/s]"
      ]
     },
     "metadata": {},
     "output_type": "display_data"
    },
    {
     "data": {
      "text/plain": [
       "['ต้นต่อ']"
      ]
     },
     "execution_count": 28,
     "metadata": {},
     "output_type": "execute_result"
    }
   ],
   "source": [
    "model.predict([\"tonto\"])"
   ]
  },
  {
   "cell_type": "code",
   "execution_count": 29,
   "id": "8ebe006b",
   "metadata": {},
   "outputs": [
    {
     "data": {
      "application/vnd.jupyter.widget-view+json": {
       "model_id": "74af48a71efe44929e9456b32c9d4232",
       "version_major": 2,
       "version_minor": 0
      },
      "text/plain": [
       "Generating outputs:   0%|          | 0/1 [00:00<?, ?it/s]"
      ]
     },
     "metadata": {},
     "output_type": "display_data"
    },
    {
     "data": {
      "text/plain": [
       "['โดนาลด']"
      ]
     },
     "execution_count": 29,
     "metadata": {},
     "output_type": "execute_result"
    }
   ],
   "source": [
    "model.predict([\"donald\"])"
   ]
  },
  {
   "cell_type": "code",
   "execution_count": 30,
   "id": "71f67a82",
   "metadata": {},
   "outputs": [
    {
     "data": {
      "application/vnd.jupyter.widget-view+json": {
       "model_id": "02e66936f7414ac1bdd0c0281d464f57",
       "version_major": 2,
       "version_minor": 0
      },
      "text/plain": [
       "Generating outputs:   0%|          | 0/1 [00:00<?, ?it/s]"
      ]
     },
     "metadata": {},
     "output_type": "display_data"
    },
    {
     "data": {
      "text/plain": [
       "['ฟาเซบอก']"
      ]
     },
     "execution_count": 30,
     "metadata": {},
     "output_type": "execute_result"
    }
   ],
   "source": [
    "model.predict([\"facebook\"])"
   ]
  },
  {
   "cell_type": "code",
   "execution_count": 31,
   "id": "e55d0505",
   "metadata": {},
   "outputs": [
    {
     "data": {
      "application/vnd.jupyter.widget-view+json": {
       "model_id": "0704924f795a4306b52581b7b66eeb7f",
       "version_major": 2,
       "version_minor": 0
      },
      "text/plain": [
       "Generating outputs:   0%|          | 0/1 [00:00<?, ?it/s]"
      ]
     },
     "metadata": {},
     "output_type": "display_data"
    },
    {
     "data": {
      "text/plain": [
       "['นกปอบ']"
      ]
     },
     "execution_count": 31,
     "metadata": {},
     "output_type": "execute_result"
    }
   ],
   "source": [
    "model.predict([\"nokpop\"])"
   ]
  },
  {
   "cell_type": "code",
   "execution_count": 32,
   "id": "e70ebb02",
   "metadata": {},
   "outputs": [],
   "source": [
    "with open(\"ground_truth.txt\",'w',encoding='utf-8') as f:\n",
    "    f.write('\\n'.join(ground_truth))"
   ]
  },
  {
   "cell_type": "code",
   "execution_count": null,
   "id": "85d7a29a",
   "metadata": {},
   "outputs": [],
   "source": []
  }
 ],
 "metadata": {
  "kernelspec": {
   "display_name": "Python 3 (ipykernel)",
   "language": "python",
   "name": "python3"
  },
  "language_info": {
   "codemirror_mode": {
    "name": "ipython",
    "version": 3
   },
   "file_extension": ".py",
   "mimetype": "text/x-python",
   "name": "python",
   "nbconvert_exporter": "python",
   "pygments_lexer": "ipython3",
   "version": "3.8.12"
  }
 },
 "nbformat": 4,
 "nbformat_minor": 5
}
