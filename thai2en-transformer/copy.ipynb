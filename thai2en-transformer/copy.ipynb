{
 "cells": [
  {
   "cell_type": "code",
   "execution_count": 2,
   "id": "0a588d5a",
   "metadata": {},
   "outputs": [],
   "source": [
    "!cp -R ../seq2seq-simpletransformers/ep2 ep2/"
   ]
  },
  {
   "cell_type": "code",
   "execution_count": 3,
   "id": "011f1af2",
   "metadata": {},
   "outputs": [],
   "source": [
    "!cp ../seq2seq-simpletransformers/train.py ."
   ]
  },
  {
   "cell_type": "code",
   "execution_count": 4,
   "id": "bcf37f68",
   "metadata": {},
   "outputs": [],
   "source": [
    "!cp ../seq2seq-simpletransformers/test.ipynb ."
   ]
  },
  {
   "cell_type": "code",
   "execution_count": null,
   "id": "ee424189",
   "metadata": {},
   "outputs": [],
   "source": []
  }
 ],
 "metadata": {
  "kernelspec": {
   "display_name": "Python 3 (ipykernel)",
   "language": "python",
   "name": "python3"
  },
  "language_info": {
   "codemirror_mode": {
    "name": "ipython",
    "version": 3
   },
   "file_extension": ".py",
   "mimetype": "text/x-python",
   "name": "python",
   "nbconvert_exporter": "python",
   "pygments_lexer": "ipython3",
   "version": "3.8.12"
  }
 },
 "nbformat": 4,
 "nbformat_minor": 5
}
